{
  "nbformat": 4,
  "nbformat_minor": 0,
  "metadata": {
    "colab": {
      "name": "Python_intro.ipynb",
      "provenance": [],
      "collapsed_sections": [
        "gs4cazd7wqIu",
        "o087IraDx5cA",
        "RPlOXNEy5MnL",
        "cmO_8zVA5Re5",
        "71ogoGJ25WlP",
        "JlvPIX_P5uQv",
        "DTpotn3h8aYv",
        "M7ceJmRCyRat",
        "uCugnsXE28_h",
        "YC-vd7t07J5m"
      ],
      "authorship_tag": "ABX9TyPWAhjc7qDgvm+6Q4x9EhcI",
      "include_colab_link": true
    },
    "kernelspec": {
      "name": "python3",
      "display_name": "Python 3"
    },
    "language_info": {
      "name": "python"
    }
  },
  "cells": [
    {
      "cell_type": "markdown",
      "metadata": {
        "id": "view-in-github",
        "colab_type": "text"
      },
      "source": [
        "<a href=\"https://colab.research.google.com/github/msap-uai/CaC_Big_Data_Python/blob/main/Python_intro.ipynb\" target=\"_parent\"><img src=\"https://colab.research.google.com/assets/colab-badge.svg\" alt=\"Open In Colab\"/></a>"
      ]
    },
    {
      "cell_type": "markdown",
      "source": [
        "# Introduccion a Python.\n",
        "https://www.w3schools.com/python/default.asp "
      ],
      "metadata": {
        "id": "BsFTiR7rvwSU"
      }
    },
    {
      "cell_type": "code",
      "execution_count": 1,
      "metadata": {
        "colab": {
          "base_uri": "https://localhost:8080/"
        },
        "id": "dHDDXLxas92Y",
        "outputId": "bcda689b-b386-4273-de05-00ededd9914d"
      },
      "outputs": [
        {
          "output_type": "stream",
          "name": "stdout",
          "text": [
            "Hello, World!\n"
          ]
        }
      ],
      "source": [
        "print(\"Hello, World!\")"
      ]
    },
    {
      "cell_type": "markdown",
      "source": [
        "##CMD\n",
        "python --version # ver version de python\n",
        "\n",
        "python helloworld.py #ejecutar codigo"
      ],
      "metadata": {
        "id": "YpOq0C79wZGd"
      }
    },
    {
      "cell_type": "markdown",
      "source": [
        "#COMMENTS"
      ],
      "metadata": {
        "id": "gs4cazd7wqIu"
      }
    },
    {
      "cell_type": "code",
      "source": [
        "#This is a comment\n",
        "print(\"Hello, World!\") #This is a comment\n",
        "\n",
        "\"\"\"\n",
        "This is a comment\n",
        "written in\n",
        "more than just one line\n",
        "\"\"\""
      ],
      "metadata": {
        "colab": {
          "base_uri": "https://localhost:8080/",
          "height": 53
        },
        "id": "YMm9Rmx2v7zS",
        "outputId": "ac4c3165-31da-4c55-cf8e-dc364b9bafee"
      },
      "execution_count": 3,
      "outputs": [
        {
          "output_type": "stream",
          "name": "stdout",
          "text": [
            "Hello, World!\n"
          ]
        },
        {
          "output_type": "execute_result",
          "data": {
            "text/plain": [
              "'\\nThis is a comment\\nwritten in\\nmore than just one line\\n'"
            ],
            "application/vnd.google.colaboratory.intrinsic+json": {
              "type": "string"
            }
          },
          "metadata": {},
          "execution_count": 3
        }
      ]
    },
    {
      "cell_type": "markdown",
      "source": [
        "#PRINT"
      ],
      "metadata": {
        "id": "o087IraDx5cA"
      }
    },
    {
      "cell_type": "code",
      "source": [
        "x = \"Python is awesome\"\n",
        "print(x)\n",
        "\n",
        "x = \"Python\"\n",
        "y = \"is\"\n",
        "z = \"awesome\"\n",
        "print(x, y, z)\n",
        "\n",
        "x = \"Python \"\n",
        "y = \"is \"\n",
        "z = \"awesome\"\n",
        "print(x + y + z)\n",
        "\n",
        "x = 5\n",
        "y = \"John\"\n",
        "print(x + y) #ERROR\n",
        "print(x , y)"
      ],
      "metadata": {
        "colab": {
          "base_uri": "https://localhost:8080/"
        },
        "id": "a4GZs9Iox6tS",
        "outputId": "027ee5de-9a68-449b-bc69-935da1ff43e5"
      },
      "execution_count": 6,
      "outputs": [
        {
          "output_type": "stream",
          "name": "stdout",
          "text": [
            "Python is awesome\n",
            "Python is awesome\n",
            "Python is awesome\n"
          ]
        }
      ]
    },
    {
      "cell_type": "markdown",
      "source": [
        "#VARIABLES"
      ],
      "metadata": {
        "id": "c1afPK-Cw5h3"
      }
    },
    {
      "cell_type": "code",
      "source": [
        "#ASIGNACION \n",
        "x = 5 #int\n",
        "y = \"John\" #string\n",
        "\n",
        "x, y, z = \"Orange\", \"Banana\", \"Cherry\"\n",
        "x = y = z = \"Orange\"\n",
        "\n",
        "fruits = [\"apple\", \"banana\", \"cherry\"]\n",
        "x, y, z = fruits"
      ],
      "metadata": {
        "id": "FdaZbl3ewN4Z"
      },
      "execution_count": null,
      "outputs": []
    },
    {
      "cell_type": "code",
      "source": [
        "y = \"John\"\n",
        "print(type(x)) # get type"
      ],
      "metadata": {
        "colab": {
          "base_uri": "https://localhost:8080/"
        },
        "id": "QcGpMlBQxhFK",
        "outputId": "b31b1573-2e18-4488-d5d4-3e326314c35f"
      },
      "execution_count": 5,
      "outputs": [
        {
          "output_type": "stream",
          "name": "stdout",
          "text": [
            "<class 'int'>\n"
          ]
        }
      ]
    },
    {
      "cell_type": "markdown",
      "source": [
        "**Variable types**\n",
        "\n"
      ],
      "metadata": {
        "id": "abElRzsbzSDj"
      }
    },
    {
      "cell_type": "markdown",
      "source": [
        "###STRING"
      ],
      "metadata": {
        "id": "RPlOXNEy5MnL"
      }
    },
    {
      "cell_type": "code",
      "source": [
        "\n",
        "#Text Type:\tstr\n",
        "x = \"Hello World\"\t#str\t\n",
        "x = (\"Hello World\")\n",
        "a = \"\"\"Lorem ipsum dolor sit amet,\n",
        "consectetur adipiscing elit\"\"\" #multiline\n",
        "print(a[1]) #puede ser leido como un array\n",
        "print(a[2:5])\n",
        "print(a.upper()) #MAYUSCULA\n",
        "print(a.lower())\n",
        "print(a.strip()) #remueve estacios en blanco al inicio y final\n",
        "print(a.replace(\"H\", \"J\"))\n",
        "print(a.split(\",\")) \n",
        "print(len(a)) #cantidad de caracteres\n",
        "print(\"Hello\" in x) #true\n",
        "\n"
      ],
      "metadata": {
        "id": "Xvvr-3QHxlLS"
      },
      "execution_count": null,
      "outputs": []
    },
    {
      "cell_type": "markdown",
      "source": [
        "* capitalize()\tConverts the first character to upper case\n",
        "* casefold()\tConverts string into lower case\n",
        "* center()\tReturns a centered string\n",
        "* count()\tReturns the number of times a specified value occurs in a string\n",
        "* encode()\tReturns an encoded version of the string\n",
        "* endswith()\tReturns true if the string ends with the specified value\n",
        "* expandtabs()\tSets the tab size of the string\n",
        "* find()\tSearches the string for a specified value and returns the position of where it was found\n",
        "* format()\tFormats specified values in a string\n",
        "* format_map()\tFormats specified values in a string\n",
        "* index()\tSearches the string for a specified value and returns the position of where it was found\n",
        "* isalnum()\tReturns True if all characters in the string are alphanumeric\n",
        "* isalpha()\tReturns True if all characters in the string are in the alphabet\n",
        "* isascii()\tReturns True if all characters in the string are ascii characters\n",
        "* isdecimal()\tReturns True if all characters in the string are decimals\n",
        "* isdigit()\tReturns True if all characters in the string are digits\n",
        "* isidentifier()\tReturns True if the string is an identifier\n",
        "* islower()\tReturns True if all characters in the string are lower case\n",
        "* isnumeric()\tReturns True if all characters in the string are numeric\n",
        "* isprintable()\tReturns True if all characters in the string are printable\n",
        "* isspace()\tReturns True if all characters in the string are whitespaces\n",
        "* istitle()\tReturns True if the string follows the rules of a title\n",
        "* isupper()\tReturns True if all characters in the string are upper case\n",
        "* join()\tConverts the elements of an iterable into a string\n",
        "* ljust()\tReturns a left justified version of the string\n",
        "* lower()\tConverts a string into lower case\n",
        "* lstrip()\tReturns a left trim version of the string\n",
        "* maketrans()\tReturns a translation table to be used in translations\n",
        "* partition()\tReturns a tuple where the string is parted into three parts\n",
        "* replace()\tReturns a string where a specified value is replaced with a specified value\n",
        "* rfind()\tSearches the string for a specified value and returns the last position of where it was found\n",
        "* rindex()\tSearches the string for a specified value and returns the last position of where it was found\n",
        "* rjust()\tReturns a right justified version of the string\n",
        "* rpartition()\tReturns a tuple where the string is parted into three parts\n",
        "* rsplit()\tSplits the string at the specified separator, and returns a list\n",
        "* rstrip()\tReturns a right trim version of the string\n",
        "* split()\tSplits the string at the specified separator, and returns a list\n",
        "* splitlines()\tSplits the string at line breaks and returns a list\n",
        "* startswith()\tReturns true if the string starts with the specified value\n",
        "* strip()\tReturns a trimmed version of the string\n",
        "* swapcase()\tSwaps cases, lower case becomes upper case and vice versa\n",
        "* title()\tConverts the first character of each word to upper case\n",
        "* translate()\tReturns a translated string\n",
        "* upper()\tConverts a string into upper case\n",
        "* zfill()\tFills the string with a specified number of 0 values at the beginning"
      ],
      "metadata": {
        "id": "SCxQXt1L4fF_"
      }
    },
    {
      "cell_type": "code",
      "source": [
        "age = 36\n",
        "txt = \"My name is John, I am \" + age\n",
        "print(txt)\n",
        "\n",
        "txt = \"My name is John, and I am {}\"\n",
        "print(txt.format(age)) #incluye en el texto\n",
        "\n",
        "quantity = 3\n",
        "itemno = 567\n",
        "price = 49.95\n",
        "myorder = \"I want {} pieces of item {} for {} dollars.\"\n",
        "print(myorder.format(quantity, itemno, price))"
      ],
      "metadata": {
        "id": "tFYwZUkv7rIp"
      },
      "execution_count": null,
      "outputs": []
    },
    {
      "cell_type": "markdown",
      "source": [
        "**Escape Characters**\n",
        "\n",
        "\\'\tSingle Quote\t\n",
        "\\\\\tBackslash\t\n",
        "\\n\tNew Line\t\n",
        "\\r\tCarriage Return\t\n",
        "\\t\tTab\t\n",
        "\\b\tBackspace\t\n",
        "\\f\tForm Feed\t\n",
        "\\ooo\tOctal value\t\n",
        "\\xhh\tHex value"
      ],
      "metadata": {
        "id": "YFToeXbN7q0V"
      }
    },
    {
      "cell_type": "code",
      "source": [
        "txt = \"We are the so-called \\\"Vikings\\\" from the north.\"\n",
        "print (txt)"
      ],
      "metadata": {
        "colab": {
          "base_uri": "https://localhost:8080/"
        },
        "id": "LSeZ3QRw8D2o",
        "outputId": "d34fa024-437d-4820-d808-68e2920015e4"
      },
      "execution_count": 16,
      "outputs": [
        {
          "output_type": "stream",
          "name": "stdout",
          "text": [
            "We are the so-called \"Vikings\" from the north.\n"
          ]
        }
      ]
    },
    {
      "cell_type": "markdown",
      "source": [
        "##INT"
      ],
      "metadata": {
        "id": "cmO_8zVA5Re5"
      }
    },
    {
      "cell_type": "code",
      "source": [
        "#Numeric Types:\tint, float, complex\n",
        "x = 20\t#int\t\n",
        "x = 20.5\t#float\t\n",
        "x = 1j\t#complex\t\n",
        "\n"
      ],
      "metadata": {
        "id": "7Gptq9xl5G-L"
      },
      "execution_count": null,
      "outputs": []
    },
    {
      "cell_type": "markdown",
      "source": [
        "####Sequence Types:\tlist, tuple, range"
      ],
      "metadata": {
        "id": "71ogoGJ25WlP"
      }
    },
    {
      "cell_type": "code",
      "source": [
        "#Sequence Types:\tlist, tuple, range\n",
        "x = [\"apple\", \"banana\", \"cherry\"]\t# list\t\n",
        "x = range(6)\t# range\t\n",
        "\n"
      ],
      "metadata": {
        "id": "JsPDm_D65WMt"
      },
      "execution_count": null,
      "outputs": []
    },
    {
      "cell_type": "markdown",
      "source": [
        "* append()\tAdds an element at the end of the list\n",
        "* clear()\tRemoves all the elements from the list\n",
        "* copy()\tReturns a copy of the list\n",
        "* count()\tReturns the number of elements with the specified value\n",
        "* extend()\tAdd the elements of a list (or any iterable), to the end of the current list\n",
        "* index()\tReturns the index of the first element with the specified value\n",
        "* insert()\tAdds an element at the specified position\n",
        "* pop()\tRemoves the element at the specified position\n",
        "* remove()\tRemoves the first item with the specified value\n",
        "* reverse()\tReverses the order of the list\n",
        "* sort()\tSorts the list"
      ],
      "metadata": {
        "id": "Wo0nJugd5f33"
      }
    },
    {
      "cell_type": "code",
      "source": [
        "x = (\"apple\", \"banana\", \"cherry\")\t# tuple\t\n"
      ],
      "metadata": {
        "id": "irjeaFYw6Huf"
      },
      "execution_count": null,
      "outputs": []
    },
    {
      "cell_type": "markdown",
      "source": [
        "* count()\tReturns the number of times a specified value occurs in a tuple\n",
        "* index()\tSearches the tuple for a specified value and returns the position of where it was found"
      ],
      "metadata": {
        "id": "_d_8bYn_6ILN"
      }
    },
    {
      "cell_type": "markdown",
      "source": [
        "##DICCIONARIOS"
      ],
      "metadata": {
        "id": "JlvPIX_P5uQv"
      }
    },
    {
      "cell_type": "code",
      "source": [
        "#Mapping Type:\tdict\n",
        "x = {\"name\" : \"John\", \"age\" : 36}\t#dict\t"
      ],
      "metadata": {
        "id": "r0HNaIcd5u0d"
      },
      "execution_count": null,
      "outputs": []
    },
    {
      "cell_type": "markdown",
      "source": [
        "* clear()\tRemoves all the elements from the dictionary\n",
        "* copy()\tReturns a copy of the dictionary\n",
        "* fromkeys()\tReturns a dictionary with the specified keys and value\n",
        "* get()\tReturns the value of the specified key\n",
        "* items()\tReturns a list containing a tuple for each key value pair\n",
        "* keys()\tReturns a list containing the dictionary's keys\n",
        "* pop()\tRemoves the element with the specified key\n",
        "* popitem()\tRemoves the last inserted key-value pair\n",
        "* setdefault()\tReturns the value of the specified key. If the key does not  exist: insert the key, with the specified value\n",
        "* update()\tUpdates the dictionary with the specified key-value pairs\n",
        "* values()\tReturns a list of all the values in the dictionary"
      ],
      "metadata": {
        "id": "VNG1RMi05vqt"
      }
    },
    {
      "cell_type": "markdown",
      "source": [
        "## SET"
      ],
      "metadata": {
        "id": "1xJ0e94E5X5r"
      }
    },
    {
      "cell_type": "code",
      "source": [
        "\n",
        "\n",
        "#Set Types:\tset, frozenset\n",
        "x = {\"apple\", \"banana\", \"cherry\"}\t# set\t\n",
        "x = frozenset({\"apple\", \"banana\", \"cherry\"})\t# frozenset\t\n",
        "\n"
      ],
      "metadata": {
        "id": "dyQnzdoR5YcF"
      },
      "execution_count": null,
      "outputs": []
    },
    {
      "cell_type": "markdown",
      "source": [
        "* add()\tAdds an element to the set\n",
        "* clear()\tRemoves all the elements from the set\n",
        "* copy()\tReturns a copy of the set\n",
        "* difference()\tReturns a set containing the difference between two or more sets\n",
        "* difference_update()\tRemoves the items in this set that are also included in another, specified set\n",
        "* discard()\tRemove the specified item\n",
        "* intersection()\tReturns a set, that is the intersection of two or more sets\n",
        "* intersection_update()\tRemoves the items in this set that are not present in other, specified set(s)\n",
        "* isdisjoint()\tReturns whether two sets have a intersection or not\n",
        "* issubset()\tReturns whether another set contains this set or not\n",
        "* issuperset()\tReturns whether this set contains another set or not\n",
        "* pop()\tRemoves an element from the set\n",
        "* remove()\tRemoves the specified element\n",
        "* symmetric_difference()\tReturns a set with the symmetric differences of two sets\n",
        "* symmetric_difference_update()\tinserts the symmetric differences from this set and another\n",
        "* union()\tReturn a set containing the union of sets\n",
        "* update()\tUpdate the set with another set, or any other iterable"
      ],
      "metadata": {
        "id": "85HVT2as6iNr"
      }
    },
    {
      "cell_type": "markdown",
      "source": [
        "#BOOL"
      ],
      "metadata": {
        "id": "DTpotn3h8aYv"
      }
    },
    {
      "cell_type": "code",
      "source": [
        "#Boolean Type:\tbool\n",
        "x = True\t# bool\t"
      ],
      "metadata": {
        "id": "lwkKDNSg8bYP"
      },
      "execution_count": null,
      "outputs": []
    },
    {
      "cell_type": "markdown",
      "source": [
        "Almost any value is evaluated to True if it has some sort of content.\n",
        "\n",
        "Any string is True, except empty strings.\n",
        "\n",
        "Any number is True, except 0.\n",
        "\n",
        "Any list, tuple, set, and dictionary are True, except empty ones."
      ],
      "metadata": {
        "id": "FJGJNYKS8dlN"
      }
    },
    {
      "cell_type": "code",
      "source": [
        "#Check if an object is an integer or not:\n",
        "\n",
        "x = 200\n",
        "print(isinstance(x, int))"
      ],
      "metadata": {
        "id": "8efqPbMn8rP0"
      },
      "execution_count": null,
      "outputs": []
    },
    {
      "cell_type": "markdown",
      "source": [
        "## OTROS"
      ],
      "metadata": {
        "id": "vchDTdka6XUv"
      }
    },
    {
      "cell_type": "code",
      "source": [
        "\n",
        "\n",
        "#Binary Types:\tbytes, bytearray, memoryview\n",
        "x = b\"Hello\"\t# bytes\t\n",
        "x = bytearray(5)\t# bytearray\t\n",
        "x = memoryview(bytes(5))\t# memoryview\t\n",
        "\n",
        "#None Type:\tNoneType\n",
        "x = None\t# NoneType"
      ],
      "metadata": {
        "id": "L_yhfRNF6XvT"
      },
      "execution_count": null,
      "outputs": []
    },
    {
      "cell_type": "markdown",
      "source": [
        ""
      ],
      "metadata": {
        "id": "NGUXPwso6YLh"
      }
    },
    {
      "cell_type": "code",
      "source": [
        ""
      ],
      "metadata": {
        "id": "5jp72NX06YlF"
      },
      "execution_count": null,
      "outputs": []
    },
    {
      "cell_type": "markdown",
      "source": [
        ""
      ],
      "metadata": {
        "id": "d59uhT5x6ZYs"
      }
    },
    {
      "cell_type": "code",
      "source": [
        ""
      ],
      "metadata": {
        "id": "sVNYobB06Zv2"
      },
      "execution_count": null,
      "outputs": []
    },
    {
      "cell_type": "code",
      "source": [
        "#CASTING \n",
        "\n",
        "x = str(\"Hello World\")\t#str\t\n",
        "x = int(20)\t#int\t\n",
        "x = float(20.5)\t#float\t\n",
        "x = complex(1j)\t#complex\t\n",
        "x = list((\"apple\", \"banana\", \"cherry\"))\t#list\t\n",
        "x = tuple((\"apple\", \"banana\", \"cherry\"))\t#tuple\t\n",
        "x = range(6)\t#range\t\n",
        "x = dict(name=\"John\", age=36)\t#dict\t\n",
        "x = set((\"apple\", \"banana\", \"cherry\"))\t#set\t\n",
        "x = frozenset((\"apple\", \"banana\", \"cherry\"))\t#frozenset\t\n",
        "x = bool(5)\t#bool\t\n",
        "x = bytes(5)\t#bytes\t\n",
        "x = bytearray(5)\t#bytearray\t\n",
        "x = memoryview(bytes(5)) #memoryview"
      ],
      "metadata": {
        "id": "6JoOTAr011uB"
      },
      "execution_count": 13,
      "outputs": []
    },
    {
      "cell_type": "code",
      "source": [
        "import random\n",
        "\n",
        "print(random.randrange(1, 10))"
      ],
      "metadata": {
        "id": "40M82OyO2WgB"
      },
      "execution_count": null,
      "outputs": []
    },
    {
      "cell_type": "markdown",
      "source": [
        "#FUNCIONES"
      ],
      "metadata": {
        "id": "M7ceJmRCyRat"
      }
    },
    {
      "cell_type": "code",
      "source": [
        "x = \"awesome\" #variable global\n",
        "\n",
        "def myfunc():\n",
        "  y = \"Python is \" #variable local\n",
        "  global z #variable global que puede llamarse fuera de la funcion\n",
        "  z = \"variable global\"\n",
        "  print( y + x)\n",
        "\n",
        "myfunc()\n",
        "print(y) \n",
        "print(z) "
      ],
      "metadata": {
        "colab": {
          "base_uri": "https://localhost:8080/"
        },
        "id": "Ci9EOMalyShJ",
        "outputId": "55032879-c988-42cd-b4fa-dcec26c2cf23"
      },
      "execution_count": 11,
      "outputs": [
        {
          "output_type": "stream",
          "name": "stdout",
          "text": [
            "Python is awesome\n",
            "is \n",
            "variable global\n"
          ]
        }
      ]
    },
    {
      "cell_type": "markdown",
      "source": [
        "#LOOP\n",
        "  "
      ],
      "metadata": {
        "id": "uCugnsXE28_h"
      }
    },
    {
      "cell_type": "code",
      "source": [
        "for x in \"banana\":\n",
        "  print(x)"
      ],
      "metadata": {
        "colab": {
          "base_uri": "https://localhost:8080/"
        },
        "id": "pPd7gwj9yUHx",
        "outputId": "646eb4ac-2596-46a4-b9a5-f27657f68676"
      },
      "execution_count": 14,
      "outputs": [
        {
          "output_type": "stream",
          "name": "stdout",
          "text": [
            "b\n",
            "a\n",
            "n\n",
            "a\n",
            "n\n",
            "a\n"
          ]
        }
      ]
    },
    {
      "cell_type": "code",
      "source": [
        ""
      ],
      "metadata": {
        "id": "Ln-ankIL3BGJ"
      },
      "execution_count": null,
      "outputs": []
    },
    {
      "cell_type": "markdown",
      "source": [
        "#CONDITIONALS"
      ],
      "metadata": {
        "id": "7j_HC9Lk3X8C"
      }
    },
    {
      "cell_type": "code",
      "source": [
        "txt = \"The best things in life are free!\"\n",
        "if \"free\" in txt: #esta en el texto\n",
        "  print(\"Yes, 'free' is present.\")\n",
        "\n",
        "print(\"esta!\" in txt) #bool\n",
        "\n",
        "txt = \"The best things in life are free!\"\n",
        "if \"expensive\" not in txt:\n",
        "  print(\"No, 'expensive' is NOT present.\")\n",
        "\n",
        "print(\"expensive\" not in txt) #bool"
      ],
      "metadata": {
        "colab": {
          "base_uri": "https://localhost:8080/"
        },
        "id": "2Qo9p_TM3Zih",
        "outputId": "6063bca5-9fc9-40e1-b62e-a9eedd119929"
      },
      "execution_count": 15,
      "outputs": [
        {
          "output_type": "stream",
          "name": "stdout",
          "text": [
            "Yes, 'free' is present.\n",
            "False\n",
            "No, 'expensive' is NOT present.\n",
            "True\n"
          ]
        }
      ]
    },
    {
      "cell_type": "code",
      "source": [
        ""
      ],
      "metadata": {
        "id": "An13jTo631k3"
      },
      "execution_count": null,
      "outputs": []
    },
    {
      "cell_type": "markdown",
      "source": [
        "# FILES"
      ],
      "metadata": {
        "id": "awkMNA7w6wum"
      }
    },
    {
      "cell_type": "code",
      "source": [
        ""
      ],
      "metadata": {
        "id": "TlpIMKA76xv8"
      },
      "execution_count": null,
      "outputs": []
    },
    {
      "cell_type": "markdown",
      "source": [
        "###METODOS"
      ],
      "metadata": {
        "id": "jtVBXpfk60Gz"
      }
    },
    {
      "cell_type": "markdown",
      "source": [
        "* close()\tCloses the file\n",
        "* detach()\tReturns the separated raw stream from the buffer\n",
        "* fileno()\tReturns a number that represents the stream, from the operating * system's perspective\n",
        "* flush()\tFlushes the internal buffer\n",
        "* isatty()\tReturns whether the file stream is interactive or not\n",
        "* read()\tReturns the file content\n",
        "* readable()\tReturns whether the file stream can be read or not\n",
        "* readline()\tReturns one line from the file\n",
        "* readlines()\tReturns a list of lines from the file\n",
        "* seek()\tChange the file position\n",
        "* seekable()\tReturns whether the file allows us to change the file position\n",
        "* tell()\tReturns the current file position\n",
        "* truncate()\tResizes the file to a specified size\n",
        "* writable()\tReturns whether the file can be written to or not\n",
        "* write()\tWrites the specified string to the file\n",
        "* writelines()\tWrites a list of strings to the file"
      ],
      "metadata": {
        "id": "Okx_eILr65Fp"
      }
    },
    {
      "cell_type": "code",
      "source": [
        ""
      ],
      "metadata": {
        "id": "A7U0cLS-6394"
      },
      "execution_count": null,
      "outputs": []
    },
    {
      "cell_type": "markdown",
      "source": [
        "#Built-in Exceptions"
      ],
      "metadata": {
        "id": "YC-vd7t07J5m"
      }
    },
    {
      "cell_type": "markdown",
      "source": [
        "ArithmeticError\tRaised when an error occurs in numeric calculations\n",
        "AssertionError\tRaised when an assert statement fails\n",
        "AttributeError\tRaised when attribute reference or assignment fails\n",
        "Exception\tBase class for all exceptions\n",
        "EOFError\tRaised when the input() method hits an \"end of file\" condition (EOF)\n",
        "FloatingPointError\tRaised when a floating point calculation fails\n",
        "GeneratorExit\tRaised when a generator is closed (with the close() method)\n",
        "ImportError\tRaised when an imported module does not exist\n",
        "IndentationError\tRaised when indendation is not correct\n",
        "IndexError\tRaised when an index of a sequence does not exist\n",
        "KeyError\tRaised when a key does not exist in a dictionary\n",
        "KeyboardInterrupt\tRaised when the user presses Ctrl+c, Ctrl+z or Delete\n",
        "LookupError\tRaised when errors raised cant be found\n",
        "MemoryError\tRaised when a program runs out of memory\n",
        "NameError\tRaised when a variable does not exist\n",
        "NotImplementedError\tRaised when an abstract method requires an inherited class to override the method\n",
        "OSError\tRaised when a system related operation causes an error\n",
        "OverflowError\tRaised when the result of a numeric calculation is too large\n",
        "ReferenceError\tRaised when a weak reference object does not exist\n",
        "RuntimeError\tRaised when an error occurs that do not belong to any specific expections\n",
        "StopIteration\tRaised when the next() method of an iterator has no further values\n",
        "SyntaxError\tRaised when a syntax error occurs\n",
        "TabError\tRaised when indentation consists of tabs or spaces\n",
        "SystemError\tRaised when a system error occurs\n",
        "SystemExit\tRaised when the sys.exit() function is called\n",
        "TypeError\tRaised when two different types are combined\n",
        "UnboundLocalError\tRaised when a local variable is referenced before assignment\n",
        "UnicodeError\tRaised when a unicode problem occurs\n",
        "UnicodeEncodeError\tRaised when a unicode encoding problem occurs\n",
        "UnicodeDecodeError\tRaised when a unicode decoding problem occurs\n",
        "UnicodeTranslateError\tRaised when a unicode translation problem occurs\n",
        "ValueError\tRaised when there is a wrong value in a specified data type\n",
        "ZeroDivisionError\tRaised when the second operator in a division is zero"
      ],
      "metadata": {
        "id": "AXt2Vr4k7L0u"
      }
    },
    {
      "cell_type": "code",
      "source": [
        ""
      ],
      "metadata": {
        "id": "k216AEHt7K7A"
      },
      "execution_count": null,
      "outputs": []
    }
  ]
}